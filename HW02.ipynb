{
 "cells": [
  {
   "cell_type": "code",
   "execution_count": null,
   "id": "4228fde9",
   "metadata": {},
   "outputs": [],
   "source": [
    "import numpy as np\n",
    "import math"
   ]
  },
  {
   "cell_type": "code",
   "execution_count": null,
   "id": "c4877c3b",
   "metadata": {},
   "outputs": [],
   "source": [
    "def F(x,y):\n",
    "    return np.exp(1j*y)+2*np.exp(-1j*y/2)*np.cos(np.sqrt(3)/2*x)\n",
    "def M(a):\n",
    "    return np.array([[0,a],[np.conjugate(a),0]], dtype=complex)"
   ]
  },
  {
   "cell_type": "code",
   "execution_count": null,
   "id": "c53b39f0",
   "metadata": {},
   "outputs": [],
   "source": [
    "n = 50 # size of gird\n",
    "x, y = np.meshgrid(np.linspace(-np.pi,np.pi,n),np.linspace(-np.pi,np.pi,n))\n",
    "\n",
    "z_eigval_1 = np.zeros((n,n))\n",
    "z_eigval_2 = np.zeros((n,n))\n",
    "\n",
    "for i in range(n):\n",
    "    for j in range(n):\n",
    "        xx = x[i,j]\n",
    "        yy = y[i,j]\n",
    "        k1 = F(xx,yy)\n",
    "        k2 = M(k1) # M value for each points\n",
    "        z_eigval, _ = np.linalg.eig(k2) # Function to diagonalize\n",
    "        z_eigval_1[i,j] += z_eigval[0]\n",
    "        z_eigval_2[i,j] += z_eigval[1]"
   ]
  },
  {
   "cell_type": "code",
   "execution_count": null,
   "id": "a1091d78",
   "metadata": {},
   "outputs": [],
   "source": [
    "import matplotlib.pyplot as plt\n",
    "from mpl_toolkits.mplot3d import Axes3D"
   ]
  },
  {
   "cell_type": "code",
   "execution_count": null,
   "id": "79aae707",
   "metadata": {},
   "outputs": [],
   "source": [
    "# Method1\n",
    "\n",
    "fig = plt.figure()\n",
    "ax = fig.add_subplot(111, projection='3d')\n",
    "ax.scatter(x, y, z_eigval_1, c='r', marker='o')\n",
    "ax.scatter(x, y, z_eigval_2, c='b', marker='o')\n",
    "ax.set_xlabel('x')\n",
    "ax.set_ylabel('y')\n",
    "ax.set_zlabel('Eigenvalues')\n",
    "plt.show()"
   ]
  },
  {
   "cell_type": "code",
   "execution_count": null,
   "id": "60216be6",
   "metadata": {},
   "outputs": [],
   "source": [
    "from matplotlib import cm\n",
    "\n",
    "fig = plt.figure(figsize= (12,6))\n",
    "ax1 = fig.add_subplot(121, projection='3d')\n",
    "ax2 = fig.add_subplot(122, projection='3d')\n",
    "\n",
    "ax1.plot_surface(x,\n",
    "                 y,\n",
    "                 z_eigval_1,\n",
    "                 linewidth=0, \n",
    "                 antialiased=False,\n",
    "                )\n",
    "ax1.set_title('Eigenvalues_1')\n",
    "\n",
    "ax2.plot_surface(x,\n",
    "                 y,\n",
    "                 z_eigval_2,\n",
    "                 linewidth=0, \n",
    "                 antialiased=False,\n",
    "                )\n",
    "ax2.set_title('Eigenvalues_2')"
   ]
  },
  {
   "cell_type": "code",
   "execution_count": null,
   "id": "b1e8f863",
   "metadata": {},
   "outputs": [],
   "source": []
  }
 ],
 "metadata": {
  "kernelspec": {
   "display_name": "Python 3 (ipykernel)",
   "language": "python",
   "name": "python3"
  },
  "language_info": {
   "codemirror_mode": {
    "name": "ipython",
    "version": 3
   },
   "file_extension": ".py",
   "mimetype": "text/x-python",
   "name": "python",
   "nbconvert_exporter": "python",
   "pygments_lexer": "ipython3",
   "version": "3.11.0"
  }
 },
 "nbformat": 4,
 "nbformat_minor": 5
}
